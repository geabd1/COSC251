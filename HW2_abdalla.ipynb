{
  "nbformat": 4,
  "nbformat_minor": 0,
  "metadata": {
    "colab": {
      "provenance": [],
      "authorship_tag": "ABX9TyNekxxg9RXLhvTG2uKmzAMp",
      "include_colab_link": true
    },
    "kernelspec": {
      "name": "python3",
      "display_name": "Python 3"
    },
    "language_info": {
      "name": "python"
    }
  },
  "cells": [
    {
      "cell_type": "markdown",
      "metadata": {
        "id": "view-in-github",
        "colab_type": "text"
      },
      "source": [
        "<a href=\"https://colab.research.google.com/github/geabd1/COSC251/blob/main/HW2_abdalla.ipynb\" target=\"_parent\"><img src=\"https://colab.research.google.com/assets/colab-badge.svg\" alt=\"Open In Colab\"/></a>"
      ]
    },
    {
      "cell_type": "code",
      "execution_count": null,
      "metadata": {
        "id": "G2mMAsKWpS-y"
      },
      "outputs": [],
      "source": [
        "import pandas as pd\n",
        "import numpy as np"
      ]
    },
    {
      "cell_type": "code",
      "source": [
        "    from google.colab import drive\n",
        "\n",
        "    drive.mount('/content/drive')\n"
      ],
      "metadata": {
        "colab": {
          "base_uri": "https://localhost:8080/"
        },
        "id": "vbjrzUChpaVl",
        "outputId": "94a6898b-3098-4db5-ca8e-78e090bbf40c"
      },
      "execution_count": null,
      "outputs": [
        {
          "output_type": "stream",
          "name": "stdout",
          "text": [
            "Mounted at /content/drive\n"
          ]
        }
      ]
    },
    {
      "cell_type": "markdown",
      "source": [
        "PART 1"
      ],
      "metadata": {
        "id": "ZEA5KV2ztkAL"
      }
    },
    {
      "cell_type": "code",
      "source": [
        "\n",
        "employees = pd.read_csv('/content/drive/My Drive/Colab Notebooks/employees.csv')\n",
        "\n",
        "\n",
        "# 1\n",
        "print(\"Summary of the DataFrame:\")\n",
        "print(employees.info())"
      ],
      "metadata": {
        "colab": {
          "base_uri": "https://localhost:8080/"
        },
        "collapsed": true,
        "id": "j0nHsg3jsiSl",
        "outputId": "c2a13861-2932-43c8-8c87-afae4e4dd4ec"
      },
      "execution_count": null,
      "outputs": [
        {
          "output_type": "stream",
          "name": "stdout",
          "text": [
            "Summary of the DataFrame:\n",
            "<class 'pandas.core.frame.DataFrame'>\n",
            "RangeIndex: 1000 entries, 0 to 999\n",
            "Data columns (total 8 columns):\n",
            " #   Column             Non-Null Count  Dtype  \n",
            "---  ------             --------------  -----  \n",
            " 0   First Name         933 non-null    object \n",
            " 1   Gender             855 non-null    object \n",
            " 2   Start Date         1000 non-null   object \n",
            " 3   Last Login Time    1000 non-null   object \n",
            " 4   Salary             992 non-null    float64\n",
            " 5   Bonus %            993 non-null    float64\n",
            " 6   Senior Management  933 non-null    object \n",
            " 7   Team               957 non-null    object \n",
            "dtypes: float64(2), object(6)\n",
            "memory usage: 62.6+ KB\n",
            "None\n"
          ]
        }
      ]
    },
    {
      "cell_type": "code",
      "source": [
        "# 2\n",
        "employees['Salary'].fillna(employees['Salary'].median(), inplace=True)\n",
        "employees['Bonus %'].fillna(employees['Bonus %'].median(), inplace=True)\n",
        "print(\"\\nAverage Salary:\", employees['Salary'].mean())\n",
        "print(\"Average Bonus %:\", employees['Bonus %'].mean())\n",
        "\n",
        "# 3\n",
        "high_salary_employees = employees[employees['Salary'] > 100000]\n",
        "print(\"\\nEmployees with Salary > 100K:\\n\", high_salary_employees)"
      ],
      "metadata": {
        "colab": {
          "base_uri": "https://localhost:8080/"
        },
        "collapsed": true,
        "id": "iohrV9MitoeG",
        "outputId": "74fd1f22-f8f3-4fab-dcbd-20d1c774794b"
      },
      "execution_count": null,
      "outputs": [
        {
          "output_type": "stream",
          "name": "stdout",
          "text": [
            "\n",
            "Average Salary: 90677.35\n",
            "Average Bonus %: 10.230291999999999\n",
            "\n",
            "Employees with Salary > 100K:\n",
            "     First Name  Gender  Start Date Last Login Time    Salary  Bonus %  \\\n",
            "2        Maria  Female   4/23/1993        11:17 AM  130590.0   11.858   \n",
            "3        Jerry    Male    3/4/2005         1:00 PM  138705.0    9.340   \n",
            "4        Larry    Male   1/24/1998         4:47 PM  101004.0    1.389   \n",
            "5       Dennis    Male   4/18/1987         1:35 AM  115163.0   10.125   \n",
            "9      Frances  Female    8/8/2002         6:51 AM  139852.0    7.524   \n",
            "..         ...     ...         ...             ...       ...      ...   \n",
            "990      Robin  Female   7/24/1987         1:35 PM  100765.0   10.982   \n",
            "991       Rose  Female   8/25/2002         5:12 AM  134505.0   11.051   \n",
            "992    Anthony    Male  10/16/2011         8:35 AM  112769.0   11.625   \n",
            "995      Henry     NaN  11/23/2014         6:09 AM  132483.0   16.655   \n",
            "999     Albert    Male   5/15/2012         6:24 PM  129949.0   10.169   \n",
            "\n",
            "    Senior Management                  Team  \n",
            "2               False               Finance  \n",
            "3                True               Finance  \n",
            "4                True       Client Services  \n",
            "5               False                 Legal  \n",
            "9                True  Business Development  \n",
            "..                ...                   ...  \n",
            "990              True       Client Services  \n",
            "991              True             Marketing  \n",
            "992              True               Finance  \n",
            "995             False          Distribution  \n",
            "999              True                 Sales  \n",
            "\n",
            "[405 rows x 8 columns]\n"
          ]
        },
        {
          "output_type": "stream",
          "name": "stderr",
          "text": [
            "<ipython-input-84-3f3667b455b6>:2: FutureWarning: A value is trying to be set on a copy of a DataFrame or Series through chained assignment using an inplace method.\n",
            "The behavior will change in pandas 3.0. This inplace method will never work because the intermediate object on which we are setting values always behaves as a copy.\n",
            "\n",
            "For example, when doing 'df[col].method(value, inplace=True)', try using 'df.method({col: value}, inplace=True)' or df[col] = df[col].method(value) instead, to perform the operation inplace on the original object.\n",
            "\n",
            "\n",
            "  employees['Salary'].fillna(employees['Salary'].median(), inplace=True)\n",
            "<ipython-input-84-3f3667b455b6>:3: FutureWarning: A value is trying to be set on a copy of a DataFrame or Series through chained assignment using an inplace method.\n",
            "The behavior will change in pandas 3.0. This inplace method will never work because the intermediate object on which we are setting values always behaves as a copy.\n",
            "\n",
            "For example, when doing 'df[col].method(value, inplace=True)', try using 'df.method({col: value}, inplace=True)' or df[col] = df[col].method(value) instead, to perform the operation inplace on the original object.\n",
            "\n",
            "\n",
            "  employees['Bonus %'].fillna(employees['Bonus %'].median(), inplace=True)\n"
          ]
        }
      ]
    },
    {
      "cell_type": "code",
      "source": [
        "# 4\n",
        "male_highest = employees[employees['Gender'] == 'Male'].nlargest(1, 'Salary')\n",
        "male_lowest = employees[employees['Gender'] == 'Male'].nsmallest(1, 'Salary')\n",
        "female_highest = employees[employees['Gender'] == 'Female'].nlargest(1, 'Salary')\n",
        "female_lowest = employees[employees['Gender'] == 'Female'].nsmallest(1, 'Salary')\n",
        "print(\"\\nMale Employee with Highest Salary:\\n\", male_highest[['First Name', 'Salary']])\n",
        "print(\"Male Employee with Lowest Salary:\\n\", male_lowest[['First Name', 'Salary']])\n",
        "print(\"Female Employee with Highest Salary:\\n\", female_highest[['First Name', 'Salary']])\n",
        "print(\"Female Employee with Lowest Salary:\\n\", female_lowest[['First Name', 'Salary']])\n",
        "\n",
        "# 5\n",
        "team_salary_stats = employees.groupby('Team')['Salary'].agg(['min', 'max'])\n",
        "print(\"\\nMinimum and Maximum Salaries per Team:\\n\", team_salary_stats)\n"
      ],
      "metadata": {
        "colab": {
          "base_uri": "https://localhost:8080/"
        },
        "collapsed": true,
        "id": "09dj3Vr0uDju",
        "outputId": "322cc174-ebba-497e-f742-5e72bb9f8a7e"
      },
      "execution_count": null,
      "outputs": [
        {
          "output_type": "stream",
          "name": "stdout",
          "text": [
            "\n",
            "Male Employee with Highest Salary:\n",
            "     First Name    Salary\n",
            "981      James  148985.0\n",
            "Male Employee with Lowest Salary:\n",
            "     First Name   Salary\n",
            "576    Michael  35013.0\n",
            "Female Employee with Highest Salary:\n",
            "     First Name    Salary\n",
            "644  Katherine  149908.0\n",
            "Female Employee with Lowest Salary:\n",
            "     First Name   Salary\n",
            "650    Cynthia  35381.0\n",
            "\n",
            "Minimum and Maximum Salaries per Team:\n",
            "                           min       max\n",
            "Team                                   \n",
            "Business Development  36844.0  147417.0\n",
            "Client Services       35095.0  147183.0\n",
            "Distribution          35575.0  149105.0\n",
            "Engineering           36946.0  147362.0\n",
            "Finance               35381.0  149908.0\n",
            "Human Resources       35203.0  149903.0\n",
            "Legal                 35061.0  148985.0\n",
            "Marketing             36643.0  149456.0\n",
            "Product               35013.0  149684.0\n",
            "Sales                 35802.0  149654.0\n"
          ]
        }
      ]
    },
    {
      "cell_type": "code",
      "source": [
        "# 6\n",
        "gender_salary_stats = employees.groupby('Gender')['Salary'].agg(['max', 'mean'])\n",
        "print(\"\\nMaximum and Average Salary by Gender:\\n\", gender_salary_stats)\n",
        "\n",
        "#7\n",
        "team_gender_salary = employees.groupby(['Team', 'Gender'])['Salary'].mean().reset_index()\n",
        "print(\"\\nMean Salary for each Team and Gender combination:\\n\", team_gender_salary)\n",
        "\n",
        "# 8\n",
        "employees['Total Salary'] = employees['Salary'] + (employees['Salary'] * employees['Bonus %'] / 100)\n",
        "print(\"\\nData with Total Salary Column:\\n\", employees.head())\n",
        "\n",
        "# 9\n",
        "employees['Start Date'] = pd.to_datetime(employees['Start Date'], errors='coerce')\n",
        "employees_joined_2000_2010 = employees[(employees['Start Date'].dt.year >= 2000) & (employees['Start Date'].dt.year <= 2010)]\n",
        "print(\"\\nEmployees who joined between 2000-2010:\\n\", employees_joined_2000_2010)\n",
        "\n",
        "# 10\n",
        "def salary_bonus_diff(df):\n",
        "    return pd.Series({\n",
        "        'Salary Difference': df['Salary'].max() - df['Salary'].min(),\n",
        "        'Bonus Difference': df['Bonus %'].max() - df['Bonus %'].min()\n",
        "    })\n",
        "\n",
        "diff_stats = employees.groupby('Team').apply(salary_bonus_diff)\n",
        "print(\"\\nDifference between Max and Min Salary and Bonus per Team:\\n\", diff_stats)"
      ],
      "metadata": {
        "colab": {
          "base_uri": "https://localhost:8080/"
        },
        "id": "zv6Yts2cQOR-",
        "outputId": "aa650be9-e206-49de-f96b-6ad516d5c6c6"
      },
      "execution_count": null,
      "outputs": [
        {
          "output_type": "stream",
          "name": "stdout",
          "text": [
            "\n",
            "Maximum and Average Salary by Gender:\n",
            "              max          mean\n",
            "Gender                        \n",
            "Female  149908.0  90098.645012\n",
            "Male    148985.0  91110.544811\n",
            "\n",
            "Mean Salary for each Team and Gender combination:\n",
            "                     Team  Gender        Salary\n",
            "0   Business Development  Female  92669.060000\n",
            "1   Business Development    Male  89071.750000\n",
            "2        Client Services  Female  86430.083333\n",
            "3        Client Services    Male  93014.797619\n",
            "4           Distribution  Female  81328.162162\n",
            "5           Distribution    Male  93861.800000\n",
            "6            Engineering  Female  89861.715909\n",
            "7            Engineering    Male  98408.250000\n",
            "8                Finance  Female  92203.454545\n",
            "9                Finance    Male  94912.670732\n",
            "10       Human Resources  Female  94113.972973\n",
            "11       Human Resources    Male  91368.733333\n",
            "12                 Legal  Female  90790.382353\n",
            "13                 Legal    Male  84254.657143\n",
            "14             Marketing  Female  95881.412500\n",
            "15             Marketing    Male  86082.365854\n",
            "16               Product  Female  86182.644444\n",
            "17               Product    Male  88957.825000\n",
            "18                 Sales  Female  89814.564103\n",
            "19                 Sales    Male  93196.666667\n",
            "\n",
            "Data with Total Salary Column:\n",
            "   First Name  Gender Start Date Last Login Time    Salary  Bonus %  \\\n",
            "0    Douglas    Male   8/6/1993        12:42 PM   97308.0    6.945   \n",
            "1     Thomas    Male  3/31/1996         6:53 AM   61933.0    4.170   \n",
            "2      Maria  Female  4/23/1993        11:17 AM  130590.0   11.858   \n",
            "3      Jerry    Male   3/4/2005         1:00 PM  138705.0    9.340   \n",
            "4      Larry    Male  1/24/1998         4:47 PM  101004.0    1.389   \n",
            "\n",
            "  Senior Management             Team  Total Salary  \n",
            "0              True        Marketing  104066.04060  \n",
            "1              True              NaN   64515.60610  \n",
            "2             False          Finance  146075.36220  \n",
            "3              True          Finance  151660.04700  \n",
            "4              True  Client Services  102406.94556  \n",
            "\n",
            "Employees who joined between 2000-2010:\n",
            "     First Name  Gender Start Date Last Login Time    Salary  Bonus %  \\\n",
            "3        Jerry    Male 2005-03-04         1:00 PM  138705.0    9.340   \n",
            "8       Angela  Female 2005-11-22         6:29 AM   95570.0   18.523   \n",
            "9      Frances  Female 2002-08-08         6:51 AM  139852.0    7.524   \n",
            "13        Gary    Male 2008-01-27        11:40 PM  109831.0    5.831   \n",
            "16      Jeremy    Male 2010-09-21         5:56 AM   90370.0    7.369   \n",
            "..         ...     ...        ...             ...       ...      ...   \n",
            "969      Linda  Female 2010-02-04         8:49 PM   44486.0   17.308   \n",
            "971    Patrick    Male 2002-12-30         2:01 AM   75423.0    5.368   \n",
            "972     Victor     NaN 2006-07-28         2:49 PM   76381.0   11.159   \n",
            "988      Alice  Female 2004-10-05         9:34 AM   47638.0   11.209   \n",
            "991       Rose  Female 2002-08-25         5:12 AM  134505.0   11.051   \n",
            "\n",
            "    Senior Management                  Team  Total Salary  \n",
            "3                True               Finance  151660.04700  \n",
            "8                True           Engineering  113272.43110  \n",
            "9                True  Business Development  150374.46448  \n",
            "13              False                 Sales  116235.24561  \n",
            "16              False       Human Resources   97029.36530  \n",
            "..                ...                   ...           ...  \n",
            "969              True           Engineering   52185.63688  \n",
            "971              True  Business Development   79471.70664  \n",
            "972              True                 Sales   84904.35579  \n",
            "988             False       Human Resources   52977.74342  \n",
            "991              True             Marketing  149369.14755  \n",
            "\n",
            "[327 rows x 9 columns]\n",
            "\n",
            "Difference between Max and Min Salary and Bonus per Team:\n",
            "                       Salary Difference  Bonus Difference\n",
            "Team                                                     \n",
            "Business Development           110573.0            18.599\n",
            "Client Services                112088.0            18.879\n",
            "Distribution                   113530.0            18.229\n",
            "Engineering                    110416.0            18.833\n",
            "Finance                        114527.0            18.782\n",
            "Human Resources                114700.0            18.499\n",
            "Legal                          113924.0            18.865\n",
            "Marketing                      112813.0            18.674\n",
            "Product                        114671.0            18.242\n",
            "Sales                          113852.0            17.563\n"
          ]
        },
        {
          "output_type": "stream",
          "name": "stderr",
          "text": [
            "<ipython-input-86-b97568b41ef2>:25: DeprecationWarning: DataFrameGroupBy.apply operated on the grouping columns. This behavior is deprecated, and in a future version of pandas the grouping columns will be excluded from the operation. Either pass `include_groups=False` to exclude the groupings or explicitly select the grouping columns after groupby to silence this warning.\n",
            "  diff_stats = employees.groupby('Team').apply(salary_bonus_diff)\n"
          ]
        }
      ]
    },
    {
      "cell_type": "markdown",
      "source": [
        "**PART 2**"
      ],
      "metadata": {
        "id": "ms5f7k72w3Ou"
      }
    },
    {
      "source": [
        "df = pd.read_csv('/content/drive/My Drive/Colab Notebooks/sales_product.csv')\n",
        "\n",
        "print(\"### Question 1: Dataset Information ###\")\n",
        "print(df.info())\n",
        "print(df.head())"
      ],
      "cell_type": "code",
      "metadata": {
        "colab": {
          "base_uri": "https://localhost:8080/"
        },
        "id": "_i6Q2MVgBE5x",
        "outputId": "80c1164e-4308-4438-e57c-70471c015489"
      },
      "execution_count": null,
      "outputs": [
        {
          "output_type": "stream",
          "name": "stdout",
          "text": [
            "### Question 1: Dataset Information ###\n",
            "<class 'pandas.core.frame.DataFrame'>\n",
            "RangeIndex: 186850 entries, 0 to 186849\n",
            "Data columns (total 6 columns):\n",
            " #   Column            Non-Null Count   Dtype \n",
            "---  ------            --------------   ----- \n",
            " 0   Order ID          186305 non-null  object\n",
            " 1   Product           186305 non-null  object\n",
            " 2   Quantity Ordered  186305 non-null  object\n",
            " 3   Price Each        186305 non-null  object\n",
            " 4   Order Date        186305 non-null  object\n",
            " 5   Purchase Address  186305 non-null  object\n",
            "dtypes: object(6)\n",
            "memory usage: 8.6+ MB\n",
            "None\n",
            "  Order ID                     Product Quantity Ordered Price Each  \\\n",
            "0   176558        USB-C Charging Cable                2      11.95   \n",
            "1      NaN                         NaN              NaN        NaN   \n",
            "2   176559  Bose SoundSport Headphones                1      99.99   \n",
            "3   176560                Google Phone                1        600   \n",
            "4   176560            Wired Headphones                1      11.99   \n",
            "\n",
            "       Order Date                      Purchase Address  \n",
            "0  04/19/19 08:46          917 1st St, Dallas, TX 75001  \n",
            "1             NaN                                   NaN  \n",
            "2  04/07/19 22:30     682 Chestnut St, Boston, MA 02215  \n",
            "3  04/12/19 14:38  669 Spruce St, Los Angeles, CA 90001  \n",
            "4  04/12/19 14:38  669 Spruce St, Los Angeles, CA 90001  \n"
          ]
        }
      ]
    },
    {
      "source": [
        "# 2.\n",
        "print(\"Question 2: Original Dataset\")\n",
        "print(df.info())\n",
        "print(df.head())\n",
        "df_cleaned = df.dropna()\n",
        "print(\" Question 2: Cleaned Dataset\")\n",
        "print(df_cleaned.info())\n",
        "print(df_cleaned.head())\n",
        "\n"
      ],
      "cell_type": "code",
      "metadata": {
        "colab": {
          "base_uri": "https://localhost:8080/"
        },
        "id": "02v2J58Zx6em",
        "outputId": "e285ece3-560b-42df-ff56-5f25103ff73e"
      },
      "execution_count": null,
      "outputs": [
        {
          "output_type": "stream",
          "name": "stdout",
          "text": [
            "Question 2: Original Dataset\n",
            "<class 'pandas.core.frame.DataFrame'>\n",
            "RangeIndex: 186850 entries, 0 to 186849\n",
            "Data columns (total 6 columns):\n",
            " #   Column            Non-Null Count   Dtype \n",
            "---  ------            --------------   ----- \n",
            " 0   Order ID          186305 non-null  object\n",
            " 1   Product           186305 non-null  object\n",
            " 2   Quantity Ordered  186305 non-null  object\n",
            " 3   Price Each        186305 non-null  object\n",
            " 4   Order Date        186305 non-null  object\n",
            " 5   Purchase Address  186305 non-null  object\n",
            "dtypes: object(6)\n",
            "memory usage: 8.6+ MB\n",
            "None\n",
            "  Order ID                     Product Quantity Ordered Price Each  \\\n",
            "0   176558        USB-C Charging Cable                2      11.95   \n",
            "1      NaN                         NaN              NaN        NaN   \n",
            "2   176559  Bose SoundSport Headphones                1      99.99   \n",
            "3   176560                Google Phone                1        600   \n",
            "4   176560            Wired Headphones                1      11.99   \n",
            "\n",
            "       Order Date                      Purchase Address  \n",
            "0  04/19/19 08:46          917 1st St, Dallas, TX 75001  \n",
            "1             NaN                                   NaN  \n",
            "2  04/07/19 22:30     682 Chestnut St, Boston, MA 02215  \n",
            "3  04/12/19 14:38  669 Spruce St, Los Angeles, CA 90001  \n",
            "4  04/12/19 14:38  669 Spruce St, Los Angeles, CA 90001  \n",
            " Question 2: Cleaned Dataset\n",
            "<class 'pandas.core.frame.DataFrame'>\n",
            "Index: 186305 entries, 0 to 186849\n",
            "Data columns (total 6 columns):\n",
            " #   Column            Non-Null Count   Dtype \n",
            "---  ------            --------------   ----- \n",
            " 0   Order ID          186305 non-null  object\n",
            " 1   Product           186305 non-null  object\n",
            " 2   Quantity Ordered  186305 non-null  object\n",
            " 3   Price Each        186305 non-null  object\n",
            " 4   Order Date        186305 non-null  object\n",
            " 5   Purchase Address  186305 non-null  object\n",
            "dtypes: object(6)\n",
            "memory usage: 9.9+ MB\n",
            "None\n",
            "  Order ID                     Product Quantity Ordered Price Each  \\\n",
            "0   176558        USB-C Charging Cable                2      11.95   \n",
            "2   176559  Bose SoundSport Headphones                1      99.99   \n",
            "3   176560                Google Phone                1        600   \n",
            "4   176560            Wired Headphones                1      11.99   \n",
            "5   176561            Wired Headphones                1      11.99   \n",
            "\n",
            "       Order Date                      Purchase Address  \n",
            "0  04/19/19 08:46          917 1st St, Dallas, TX 75001  \n",
            "2  04/07/19 22:30     682 Chestnut St, Boston, MA 02215  \n",
            "3  04/12/19 14:38  669 Spruce St, Los Angeles, CA 90001  \n",
            "4  04/12/19 14:38  669 Spruce St, Los Angeles, CA 90001  \n",
            "5  04/30/19 09:27     333 8th St, Los Angeles, CA 90001  \n"
          ]
        }
      ]
    },
    {
      "cell_type": "code",
      "source": [
        "#3\n",
        "df_cleaned[\"Quantity Ordered\"] = pd.to_numeric(df_cleaned[\"Quantity Ordered\"], errors=\"coerce\")\n",
        "df_cleaned[\"Price Each\"] = pd.to_numeric(df_cleaned[\"Price Each\"], errors=\"coerce\")\n",
        "df_cleaned[\"Order Date\"] = pd.to_datetime(df_cleaned[\"Order Date\"], errors=\"coerce\")\n",
        "\n",
        "df_cleaned = df_cleaned.dropna()\n",
        "print(df_cleaned.info())\n",
        "print(df_cleaned.head())\n"
      ],
      "metadata": {
        "colab": {
          "base_uri": "https://localhost:8080/"
        },
        "id": "HUOAhQtl_jHy",
        "outputId": "631619e6-86fa-42d1-da10-3b901dee8fea"
      },
      "execution_count": null,
      "outputs": [
        {
          "output_type": "stream",
          "name": "stderr",
          "text": [
            "<ipython-input-79-06d6224de141>:1: SettingWithCopyWarning: \n",
            "A value is trying to be set on a copy of a slice from a DataFrame.\n",
            "Try using .loc[row_indexer,col_indexer] = value instead\n",
            "\n",
            "See the caveats in the documentation: https://pandas.pydata.org/pandas-docs/stable/user_guide/indexing.html#returning-a-view-versus-a-copy\n",
            "  df_cleaned[\"Quantity Ordered\"] = pd.to_numeric(df_cleaned[\"Quantity Ordered\"], errors=\"coerce\")\n",
            "<ipython-input-79-06d6224de141>:2: SettingWithCopyWarning: \n",
            "A value is trying to be set on a copy of a slice from a DataFrame.\n",
            "Try using .loc[row_indexer,col_indexer] = value instead\n",
            "\n",
            "See the caveats in the documentation: https://pandas.pydata.org/pandas-docs/stable/user_guide/indexing.html#returning-a-view-versus-a-copy\n",
            "  df_cleaned[\"Price Each\"] = pd.to_numeric(df_cleaned[\"Price Each\"], errors=\"coerce\")\n",
            "<ipython-input-79-06d6224de141>:3: UserWarning: Could not infer format, so each element will be parsed individually, falling back to `dateutil`. To ensure parsing is consistent and as-expected, please specify a format.\n",
            "  df_cleaned[\"Order Date\"] = pd.to_datetime(df_cleaned[\"Order Date\"], errors=\"coerce\")\n"
          ]
        },
        {
          "output_type": "stream",
          "name": "stdout",
          "text": [
            "<class 'pandas.core.frame.DataFrame'>\n",
            "Index: 185950 entries, 0 to 186849\n",
            "Data columns (total 6 columns):\n",
            " #   Column            Non-Null Count   Dtype         \n",
            "---  ------            --------------   -----         \n",
            " 0   Order ID          185950 non-null  object        \n",
            " 1   Product           185950 non-null  object        \n",
            " 2   Quantity Ordered  185950 non-null  float64       \n",
            " 3   Price Each        185950 non-null  float64       \n",
            " 4   Order Date        185950 non-null  datetime64[ns]\n",
            " 5   Purchase Address  185950 non-null  object        \n",
            "dtypes: datetime64[ns](1), float64(2), object(3)\n",
            "memory usage: 9.9+ MB\n",
            "None\n",
            "  Order ID                     Product  Quantity Ordered  Price Each  \\\n",
            "0   176558        USB-C Charging Cable               2.0       11.95   \n",
            "2   176559  Bose SoundSport Headphones               1.0       99.99   \n",
            "3   176560                Google Phone               1.0      600.00   \n",
            "4   176560            Wired Headphones               1.0       11.99   \n",
            "5   176561            Wired Headphones               1.0       11.99   \n",
            "\n",
            "           Order Date                      Purchase Address  \n",
            "0 2019-04-19 08:46:00          917 1st St, Dallas, TX 75001  \n",
            "2 2019-04-07 22:30:00     682 Chestnut St, Boston, MA 02215  \n",
            "3 2019-04-12 14:38:00  669 Spruce St, Los Angeles, CA 90001  \n",
            "4 2019-04-12 14:38:00  669 Spruce St, Los Angeles, CA 90001  \n",
            "5 2019-04-30 09:27:00     333 8th St, Los Angeles, CA 90001  \n"
          ]
        },
        {
          "output_type": "stream",
          "name": "stderr",
          "text": [
            "<ipython-input-79-06d6224de141>:3: SettingWithCopyWarning: \n",
            "A value is trying to be set on a copy of a slice from a DataFrame.\n",
            "Try using .loc[row_indexer,col_indexer] = value instead\n",
            "\n",
            "See the caveats in the documentation: https://pandas.pydata.org/pandas-docs/stable/user_guide/indexing.html#returning-a-view-versus-a-copy\n",
            "  df_cleaned[\"Order Date\"] = pd.to_datetime(df_cleaned[\"Order Date\"], errors=\"coerce\")\n"
          ]
        }
      ]
    },
    {
      "cell_type": "code",
      "source": [
        "#4\n",
        "df_cleaned[\"Month\"] = df_cleaned[\"Order Date\"].dt.month\n",
        "df_cleaned[\"City\"] = df_cleaned[\"Purchase Address\"].apply(lambda x: x.split(\", \")[1])\n",
        "print(df_cleaned.head())"
      ],
      "metadata": {
        "colab": {
          "base_uri": "https://localhost:8080/"
        },
        "id": "z5ZSi-7pB571",
        "outputId": "e9e0b2ca-1248-443f-b3cc-53b34059df23"
      },
      "execution_count": null,
      "outputs": [
        {
          "output_type": "stream",
          "name": "stdout",
          "text": [
            "  Order ID                     Product  Quantity Ordered  Price Each  \\\n",
            "0   176558        USB-C Charging Cable               2.0       11.95   \n",
            "2   176559  Bose SoundSport Headphones               1.0       99.99   \n",
            "3   176560                Google Phone               1.0      600.00   \n",
            "4   176560            Wired Headphones               1.0       11.99   \n",
            "5   176561            Wired Headphones               1.0       11.99   \n",
            "\n",
            "           Order Date                      Purchase Address  Month  \\\n",
            "0 2019-04-19 08:46:00          917 1st St, Dallas, TX 75001      4   \n",
            "2 2019-04-07 22:30:00     682 Chestnut St, Boston, MA 02215      4   \n",
            "3 2019-04-12 14:38:00  669 Spruce St, Los Angeles, CA 90001      4   \n",
            "4 2019-04-12 14:38:00  669 Spruce St, Los Angeles, CA 90001      4   \n",
            "5 2019-04-30 09:27:00     333 8th St, Los Angeles, CA 90001      4   \n",
            "\n",
            "          City  \n",
            "0       Dallas  \n",
            "2       Boston  \n",
            "3  Los Angeles  \n",
            "4  Los Angeles  \n",
            "5  Los Angeles  \n"
          ]
        }
      ]
    },
    {
      "cell_type": "code",
      "source": [
        "#5\n",
        "df_cleaned[\"Sales\"] = df_cleaned[\"Quantity Ordered\"] * df_cleaned[\"Price Each\"]\n",
        "best_month = df_cleaned.groupby(\"Month\")[\"Sales\"].sum().idxmax()\n",
        "best_month_sales = df_cleaned.groupby(\"Month\")[\"Sales\"].sum().max()\n",
        "print(f\"The best month for sales is {best_month} with a total of {best_month_sales} sales.\")"
      ],
      "metadata": {
        "colab": {
          "base_uri": "https://localhost:8080/"
        },
        "id": "tVVBjVD7CcA_",
        "outputId": "5839a349-76ac-4553-9068-a15e4ee0afe5"
      },
      "execution_count": null,
      "outputs": [
        {
          "output_type": "stream",
          "name": "stdout",
          "text": [
            "The best month for sales is 12 with a total of 4613443.34 sales.\n"
          ]
        }
      ]
    },
    {
      "cell_type": "code",
      "source": [
        "#6\n",
        "best_city = df_cleaned.groupby(\"City\")[\"Sales\"].sum().idxmax()\n",
        "best_city_sales = df_cleaned.groupby(\"City\")[\"Sales\"].sum().max()\n",
        "\n",
        "\n",
        "print(f\"City w/ Most Sales: {best_city}, Total Sales: ${best_city_sales:.2f}\")"
      ],
      "metadata": {
        "colab": {
          "base_uri": "https://localhost:8080/"
        },
        "id": "XCcm1mktCv8g",
        "outputId": "a2a6effb-5dad-43de-9171-e76c37e13a95"
      },
      "execution_count": null,
      "outputs": [
        {
          "output_type": "stream",
          "name": "stdout",
          "text": [
            "City w/ Most Sales: San Francisco, Total Sales: $8262203.91\n"
          ]
        }
      ]
    },
    {
      "cell_type": "code",
      "source": [
        "#7\n",
        "best_selling_product = df_cleaned.groupby(\"Product\")[\"Quantity Ordered\"].sum().idxmax()\n",
        "best_selling_quantity = df_cleaned.groupby(\"Product\")[\"Quantity Ordered\"].sum().max()\n",
        "\n",
        "print(f\"Best Selling Product: {best_selling_product}, Total Units Sold: {best_selling_quantity}\")\n"
      ],
      "metadata": {
        "colab": {
          "base_uri": "https://localhost:8080/"
        },
        "id": "53ReY1EbC_Xq",
        "outputId": "fa31b6ae-3aac-4fe8-d255-3bb1ee696f0d"
      },
      "execution_count": null,
      "outputs": [
        {
          "output_type": "stream",
          "name": "stdout",
          "text": [
            "Best Selling Product: AAA Batteries (4-pack), Total Units Sold: 31017.0\n"
          ]
        }
      ]
    },
    {
      "cell_type": "markdown",
      "source": [
        "**PART 3**"
      ],
      "metadata": {
        "id": "eGpdhF9mDHXo"
      }
    },
    {
      "cell_type": "code",
      "source": [
        "playstore = pd.read_csv('/content/drive/My Drive/Colab Notebooks/googleplaystore.csv')\n",
        "print(\"Shape of the DataFrame:\", playstore.shape)\n",
        "print(\"\\nData types of each column:\\n\", playstore.dtypes)\n",
        "print(\"\\nNumber of columns with missing values:\", playstore.isnull().any().sum())"
      ],
      "metadata": {
        "colab": {
          "base_uri": "https://localhost:8080/"
        },
        "id": "eRu3FK7fDK1C",
        "outputId": "45e2c1c6-3519-4e87-d59e-89f67747ebb0"
      },
      "execution_count": null,
      "outputs": [
        {
          "output_type": "stream",
          "name": "stdout",
          "text": [
            "Shape of the DataFrame: (10841, 13)\n",
            "\n",
            "Data types of each column:\n",
            " App                object\n",
            "Category           object\n",
            "Rating            float64\n",
            "Reviews            object\n",
            "Size               object\n",
            "Installs           object\n",
            "Type               object\n",
            "Price              object\n",
            "Content Rating     object\n",
            "Genres             object\n",
            "Last Updated       object\n",
            "Current Ver        object\n",
            "Android Ver        object\n",
            "dtype: object\n",
            "\n",
            "Number of columns with missing values: 5\n"
          ]
        }
      ]
    },
    {
      "source": [
        "\n",
        "\n",
        "playstore['Reviews'] = pd.to_numeric(playstore['Reviews'], errors='coerce').astype('Int64')\n",
        "\n",
        "\n",
        "playstore['Size'] = playstore['Size'].astype(str)\n",
        "playstore['Size'] = playstore['Size'].str.replace('M', '')\n",
        "playstore['Size'] = playstore['Size'].str.replace('k', '')\n",
        "playstore['Size'] = playstore['Size'].str.replace('Varies with device', 'NaN')\n",
        "playstore['Size'] = pd.to_numeric(playstore['Size'], errors='coerce')\n",
        "playstore['Size'] = playstore['Size'].astype(float)\n",
        "\n",
        "\n",
        "playstore['Installs'] = playstore['Installs'].astype(str)\n",
        "playstore['Installs'] = playstore['Installs'].str.replace('+','')\n",
        "playstore['Installs'] = playstore['Installs'].str.replace(',','')\n",
        "playstore['Installs'] = pd.to_numeric(playstore['Installs'], errors='coerce').astype('Int64')\n",
        "\n",
        "\n",
        "if playstore['Price'].dtype == object:\n",
        "    playstore['Price'] = playstore['Price'].str.replace('$', '')\n",
        "playstore['Price'] = pd.to_numeric(playstore['Price'], errors='coerce').astype(float)"
      ],
      "cell_type": "code",
      "metadata": {
        "id": "fDsh26c2MmsX"
      },
      "execution_count": null,
      "outputs": []
    },
    {
      "cell_type": "code",
      "source": [
        "# 3\n",
        "print(\"\\nOriginal Data types:\\n\", playstore.dtypes)\n",
        "playstore[\"Last Updated\"] = pd.to_datetime(playstore[\"Last Updated\"], errors='coerce')\n",
        "playstore[\"Day\"] = playstore[\"Last Updated\"].dt.day\n",
        "playstore[\"Month\"] = playstore[\"Last Updated\"].dt.month\n",
        "playstore[\"Year\"] = playstore[\"Last Updated\"].dt.year\n",
        "print(\"\\nUpdated Data types:\\n\", playstore.dtypes)\n",
        "\n",
        "#4\n",
        "playstore.dropna(inplace=True)\n",
        "print(\"\\nNumber of rows after dropping missing values:\", playstore.shape[0])"
      ],
      "metadata": {
        "colab": {
          "base_uri": "https://localhost:8080/"
        },
        "collapsed": true,
        "id": "LeocGh_gE5kQ",
        "outputId": "0539d80b-54db-4357-9369-d8253c8a8c0d"
      },
      "execution_count": null,
      "outputs": [
        {
          "output_type": "stream",
          "name": "stdout",
          "text": [
            "\n",
            "Original Data types:\n",
            " App                       object\n",
            "Category                  object\n",
            "Rating                   float64\n",
            "Reviews                    Int64\n",
            "Size                     float64\n",
            "Installs                   Int64\n",
            "Type                      object\n",
            "Price                    float64\n",
            "Content Rating            object\n",
            "Genres                    object\n",
            "Last Updated      datetime64[ns]\n",
            "Current Ver               object\n",
            "Android Ver               object\n",
            "Day                        int32\n",
            "Month                      int32\n",
            "Year                       int32\n",
            "dtype: object\n",
            "\n",
            "Updated Data types:\n",
            " App                       object\n",
            "Category                  object\n",
            "Rating                   float64\n",
            "Reviews                    Int64\n",
            "Size                     float64\n",
            "Installs                   Int64\n",
            "Type                      object\n",
            "Price                    float64\n",
            "Content Rating            object\n",
            "Genres                    object\n",
            "Last Updated      datetime64[ns]\n",
            "Current Ver               object\n",
            "Android Ver               object\n",
            "Day                        int32\n",
            "Month                      int32\n",
            "Year                       int32\n",
            "dtype: object\n",
            "\n",
            "Number of rows after dropping missing values: 9135\n"
          ]
        }
      ]
    },
    {
      "cell_type": "code",
      "source": [
        "# 5\n",
        "print(\"\\nUpdated Data types:\\n\", playstore.dtypes)\n",
        "cleaned_file_path = \"googleplaystore_cleaned.csv\"\n",
        "playstore.to_csv(cleaned_file_path, index=False)\n",
        "print(\"\\nCleaned data saved to:\", cleaned_file_path)\n",
        "\n",
        "# 6\n",
        "avg_rating_price = playstore.groupby(\"Category\").agg({\"Rating\": \"mean\", \"Price\": \"mean\"}).reset_index()\n",
        "print(\"\\nAverage Rating and Price per Category:\\n\", avg_rating_price)\n",
        "\n",
        "# 7\n",
        "monthly_installs = playstore.groupby(\"Month\")[\"Installs\"].sum().reset_index()\n",
        "print(\"\\nTotal Installations per Month:\\n\", monthly_installs)\n",
        "\n",
        "# 8\n",
        "most_popular_category = playstore[\"Category\"].value_counts().idxmax()\n",
        "print(\"\\nMost Popular App Category:\", most_popular_category)\n",
        "\n",
        "#9\n",
        "top_installed_category = playstore.groupby(\"Category\")[\"Installs\"].sum().idxmax()\n",
        "print(\"\\nCategory with Largest Installations:\", top_installed_category)\n",
        "\n",
        "#10\n",
        "top_apps_per_category = playstore.groupby(\"Category\").apply(lambda x: x.nlargest(5, \"Installs\"))[\"App\"]\n",
        "print(\"\\nTop 5 Most Installed Apps in Each Category:\\n\", top_apps_per_category)"
      ],
      "metadata": {
        "colab": {
          "base_uri": "https://localhost:8080/"
        },
        "id": "GBtMe_uhMs9r",
        "outputId": "90e2b1be-6b0e-4a13-ee91-191425de15fd"
      },
      "execution_count": null,
      "outputs": [
        {
          "output_type": "stream",
          "name": "stdout",
          "text": [
            "\n",
            "Updated Data types:\n",
            " App                       object\n",
            "Category                  object\n",
            "Rating                   float64\n",
            "Reviews                    Int64\n",
            "Size                     float64\n",
            "Installs                   Int64\n",
            "Type                      object\n",
            "Price                    float64\n",
            "Content Rating            object\n",
            "Genres                    object\n",
            "Last Updated      datetime64[ns]\n",
            "Current Ver               object\n",
            "Android Ver               object\n",
            "Day                        int32\n",
            "Month                      int32\n",
            "Year                       int32\n",
            "dtype: object\n",
            "\n",
            "Cleaned data saved to: googleplaystore_cleaned.csv\n",
            "\n",
            "Average Rating and Price per Category:\n",
            "                Category    Rating     Price\n",
            "0        ART_AND_DESIGN  4.371804  0.097869\n",
            "1     AUTO_AND_VEHICLES  4.154934  0.153067\n",
            "2                BEAUTY  4.270923  0.000000\n",
            "3   BOOKS_AND_REFERENCE  4.286498  0.595816\n",
            "4              BUSINESS  4.148185  0.430700\n",
            "5                COMICS  4.133072  0.000000\n",
            "6         COMMUNICATION  4.121284  0.257283\n",
            "7                DATING  4.001133  0.110613\n",
            "8             EDUCATION  4.385526  0.161802\n",
            "9         ENTERTAINMENT  4.146667  0.033222\n",
            "10               EVENTS  4.383744  1.929649\n",
            "11               FAMILY  4.190695  1.301214\n",
            "12              FINANCE  4.122889  9.448958\n",
            "13       FOOD_AND_DRINK  4.112934  0.049900\n",
            "14                 GAME  4.266430  0.275212\n",
            "15   HEALTH_AND_FITNESS  4.219041  0.213561\n",
            "16       HOUSE_AND_HOME  4.167942  0.000000\n",
            "17   LIBRARIES_AND_DEMO  4.202059  0.012222\n",
            "18            LIFESTYLE  4.112368  6.821420\n",
            "19  MAPS_AND_NAVIGATION  4.035309  0.138519\n",
            "20              MEDICAL  4.186560  3.205230\n",
            "21   NEWS_AND_MAGAZINES  4.154569  0.018426\n",
            "22            PARENTING  4.319137  0.092407\n",
            "23      PERSONALIZATION  4.295752  0.403711\n",
            "24          PHOTOGRAPHY  4.150315  0.489449\n",
            "25         PRODUCTIVITY  4.154941  0.768878\n",
            "26             SHOPPING  4.224146  0.027264\n",
            "27               SOCIAL  4.247048  0.076048\n",
            "28               SPORTS  4.202488  0.279807\n",
            "29                TOOLS  4.036509  0.320176\n",
            "30     TRAVEL_AND_LOCAL  4.068161  0.202969\n",
            "31        VIDEO_PLAYERS  4.045039  0.007557\n",
            "32              WEATHER  4.236141  0.411228\n",
            "\n",
            "Total Installations per Month:\n",
            "     Month     Installs\n",
            "0       1    844318661\n",
            "1       2    634599300\n",
            "2       3    841660715\n",
            "3       4   2104577619\n",
            "4       5   4849022607\n",
            "5       6   5988975824\n",
            "6       7  32191835787\n",
            "7       8  15268151698\n",
            "8       9    345959225\n",
            "9      10    533561574\n",
            "10     11    830296197\n",
            "11     12    630697147\n",
            "\n",
            "Most Popular App Category: FAMILY\n",
            "\n",
            "Category with Largest Installations: GAME\n",
            "\n",
            "Top 5 Most Installed Apps in Each Category:\n",
            " Category            \n",
            "ART_AND_DESIGN  3                                   Sketch - Draw & Paint\n",
            "                12                         Tattoo Name On My Photo Editor\n",
            "                19                                           ibis Paint X\n",
            "                45      Canva: Poster, banner, card maker & graphic de...\n",
            "                2       U Launcher Lite – FREE Live Cool Themes, Hide ...\n",
            "                                              ...                        \n",
            "WEATHER         4725                   Weather & Clock Widget for Android\n",
            "                3636                     Weather –Simple weather forecast\n",
            "                3644                                              Weather\n",
            "                3652                       wetter.com - Weather and Radar\n",
            "                5768                                        Amber Weather\n",
            "Name: App, Length: 165, dtype: object\n"
          ]
        },
        {
          "output_type": "stream",
          "name": "stderr",
          "text": [
            "<ipython-input-76-cf5a30fe44ab>:24: DeprecationWarning: DataFrameGroupBy.apply operated on the grouping columns. This behavior is deprecated, and in a future version of pandas the grouping columns will be excluded from the operation. Either pass `include_groups=False` to exclude the groupings or explicitly select the grouping columns after groupby to silence this warning.\n",
            "  top_apps_per_category = playstore.groupby(\"Category\").apply(lambda x: x.nlargest(5, \"Installs\"))[\"App\"]\n"
          ]
        }
      ]
    }
  ]
}